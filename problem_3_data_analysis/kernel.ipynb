{
  "cells": [
    {
      "metadata": {
        "_uuid": "8f2839f25d086af736a60e9eeb907d3b93b6e0e5",
        "_cell_guid": "b1076dfc-b9ad-4769-8c92-a6c4dae69d19",
        "trusted": true
      },
      "cell_type": "code",
      "source": "# This Python 3 environment comes with many helpful analytics libraries installed\n# It is defined by the kaggle/python docker image: https://github.com/kaggle/docker-python\n# For example, here's several helpful packages to load in \n\nimport numpy as np # linear algebra\nimport pandas as pd # data processing, CSV file I/O (e.g. pd.read_csv)\n\n# Input data files are available in the \"../input/\" directory.\n# For example, running this (by clicking run or pressing Shift+Enter) will list the files in the input directory\n\nimport os\nprint(os.listdir(\"../input\"))\n\n# Any results you write to the current directory are saved as output.",
      "execution_count": null,
      "outputs": []
    },
    {
      "metadata": {
        "_cell_guid": "79c7e3d0-c299-4dcb-8224-4455121ee9b0",
        "_uuid": "d629ff2d2480ee46fbb7e2d37f6b5fab8052498a",
        "trusted": true
      },
      "cell_type": "code",
      "source": "import seaborn as sns\nimport matplotlib.pyplot as plt",
      "execution_count": null,
      "outputs": []
    },
    {
      "metadata": {
        "trusted": true,
        "_uuid": "ca72bdfe90dce98d7d7091161b0873f4d04a9ecc",
        "scrolled": true
      },
      "cell_type": "code",
      "source": "df = pd.read_csv('../input/Rezultate_Bacalaureat_Sesiunea_I_II_2015_2017.csv')\nprint(df.columns)",
      "execution_count": null,
      "outputs": []
    },
    {
      "metadata": {
        "trusted": true,
        "_uuid": "6874b86ad9a078089bae01c6bbccba4e1b02d809",
        "scrolled": false
      },
      "cell_type": "code",
      "source": "# Pass rate\npassed = df.loc[df['STATUS'] == 'Promovat']\nnpassed = df.loc[df['STATUS'] == 'Nepromovat']\nnr_pass = len(passed)\nnr_npass = len(npassed)\nprint(\"Passed: {}\".format(nr_pass))\nprint(\"Not passed: {}\".format(nr_npass))\nprint(\"Pass rate: {}\".format(nr_pass / (nr_pass + nr_npass)))",
      "execution_count": null,
      "outputs": []
    },
    {
      "metadata": {
        "trusted": true,
        "scrolled": true,
        "_uuid": "20f96ff3d788260f19264af11df5f9e9b7d403b7"
      },
      "cell_type": "code",
      "source": "# Average by environment\nby_env = df.groupby('Mediu candidat').mean()['Medie']\nprint(by_env)\nby_env.plot.bar(title='Average mark by environment')",
      "execution_count": null,
      "outputs": []
    },
    {
      "metadata": {
        "trusted": true,
        "_uuid": "63329be58cf7d5476632aa74510f2ea8f6831216"
      },
      "cell_type": "code",
      "source": "# Average by specialty\nby_spec = df.groupby('Specializare').mean()['Medie']\nprint(by_spec.sort_values().head(5))\nprint(by_spec.sort_values(ascending=False).head(5))\nby_spec.sort_values(ascending=False).head(5).plot.bar(title='Top average marks by specialization')",
      "execution_count": null,
      "outputs": []
    },
    {
      "metadata": {
        "trusted": true,
        "_uuid": "38acffb8e77264aa31747ce74796d9b5f60c4357"
      },
      "cell_type": "code",
      "source": "# Average marks by profile subject\nby_subject_c = df.groupby('Subiect ec').mean()['Medie']\nprint(by_subject_c.sort_values())\nby_subject_c.sort_values(ascending=False).plot.bar(title='Average mark by sucject ec')",
      "execution_count": null,
      "outputs": []
    },
    {
      "metadata": {
        "trusted": true,
        "_uuid": "85544693cd9df459353fd30dddfb0b5f462d1ad6"
      },
      "cell_type": "code",
      "source": "# Distribution of second language levels\nby_status_a = df['STATUS_A'].value_counts()\nprint(by_status_a)\nby_status_a.plot.bar()",
      "execution_count": null,
      "outputs": []
    },
    {
      "metadata": {
        "trusted": true,
        "_uuid": "8771790bb89b1e4fe5a187e105fdffc08c152207"
      },
      "cell_type": "code",
      "source": "# Students who contested at least one result\ndf2 = df[np.logical_or.reduce([df[col] == 'Da' for col in ['CONTESTATIE_EA', 'CONTESTATIE_EB', 'CONTESTATIE_EC', 'CONTESTATIE_ED']])]\nprint(\"Total students: {}; Number of students who contested the results: {}; Percentage: {}\".format(len(df), len(df2), len(df2) / len(df)))",
      "execution_count": null,
      "outputs": []
    },
    {
      "metadata": {
        "trusted": true,
        "_uuid": "eb801884f9c69022871f9cc3e642f2ef8f34125b"
      },
      "cell_type": "code",
      "source": "# Correlation between the mark from the chosen subject and the average one\nvar = 'NOTA_ED'\ndata = pd.concat([df['Medie'], df[var]], axis=1)\ndata.plot.scatter(x=var, y='Medie', ylim=(1, 10));",
      "execution_count": null,
      "outputs": []
    },
    {
      "metadata": {
        "trusted": true,
        "_uuid": "a14184d06c0534e58e9c7deeefa5ba7e8812039a"
      },
      "cell_type": "code",
      "source": "# Distribution of average mark by chosen subject\nvar = 'Subiect ed'\ndata = pd.concat([df['Medie'], df[var]], axis=1)\nf, ax = plt.subplots(figsize=(8, 6))\nplt.xticks(rotation=90)\nfig = sns.boxplot(x=var, y=\"Medie\", data=data)\nfig.axis(ymin=0, ymax=10);",
      "execution_count": null,
      "outputs": []
    },
    {
      "metadata": {
        "trusted": true,
        "_uuid": "2ae075e86cd068d67601837dc11ce53af552d332"
      },
      "cell_type": "code",
      "source": "#correlation matrix\ncorrmat = df.corr()\nf, ax = plt.subplots(figsize=(12, 9))\nsns.heatmap(corrmat, vmax=.8, square=True);",
      "execution_count": null,
      "outputs": []
    }
  ],
  "metadata": {
    "kernelspec": {
      "display_name": "Python 3",
      "language": "python",
      "name": "python3"
    },
    "language_info": {
      "name": "python",
      "version": "3.6.6",
      "mimetype": "text/x-python",
      "codemirror_mode": {
        "name": "ipython",
        "version": 3
      },
      "pygments_lexer": "ipython3",
      "nbconvert_exporter": "python",
      "file_extension": ".py"
    }
  },
  "nbformat": 4,
  "nbformat_minor": 1
}